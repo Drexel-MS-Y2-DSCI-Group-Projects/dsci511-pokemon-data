{
 "cells": [
  {
   "cell_type": "markdown",
   "metadata": {},
   "source": [
    "## Get PokemonDB page and parse pokemon\n",
    "\n",
    "We start by getting the national pokedex page which contains all pokemon. We take a count of how many pokemon there are in order to request details about a pokemon with a given ID."
   ]
  },
  {
   "cell_type": "code",
   "execution_count": 32,
   "metadata": {},
   "outputs": [],
   "source": [
    "from bs4 import BeautifulSoup\n",
    "import requests\n",
    "import json\n",
    "\n",
    "POKEMON_DB_BASE_URL = \"https://pokemondb.net\"\n",
    "POKEDEX_BASE_URL = \"https://pokemondb.net/pokedex/\"\n",
    "\n",
    "national_pokedex = requests.get(\"https://pokemondb.net/pokedex/national\")\n",
    "\n",
    "# Using the \"infocard\" class to identify pokemon in the list\n",
    "pokemon_count = len(BeautifulSoup(national_pokedex.text, \"html.parser\").find_all('div', attrs={\"class\": \"infocard\"}))\n"
   ]
  },
  {
   "cell_type": "code",
   "execution_count": 39,
   "metadata": {},
   "outputs": [],
   "source": [
    "def getExtraImages(poke_soup):\n",
    "    link = poke_soup.find('a', text=\"Additional artwork\")\n",
    "\n",
    "    if link and hasattr(link, 'href'):\n",
    "        response = requests.get(f\"{POKEMON_DB_BASE_URL}{link['href']}\")\n",
    "    else: \n",
    "        return []\n",
    "    \n",
    "    soup = BeautifulSoup(response.text, \"html.parser\")\n",
    "    images = soup.main.find_all('img')\n",
    "    \n",
    "    return [img['src'] for img in images]\n",
    "    "
   ]
  },
  {
   "cell_type": "markdown",
   "metadata": {},
   "source": [
    "## Loop through pokemon IDs\n",
    "\n",
    "For each ID, we grab some important info after loading the page. We will get height, weight, the main image link, and the types of this pokemon."
   ]
  },
  {
   "cell_type": "code",
   "execution_count": 37,
   "metadata": {},
   "outputs": [],
   "source": [
    "\n",
    "\n",
    "def getPokemonData(num_to_fetch = pokemon_count):\n",
    "    pokemon = {}\n",
    "    for dig in range(1, num_to_fetch + 1):\n",
    "        new_data = {}\n",
    "        index = f\"{dig:03d}\"\n",
    "\n",
    "        try:\n",
    "            pokemon_page = requests.get(POKEDEX_BASE_URL + index)\n",
    "        except requests.exceptions.RequestException:\n",
    "            continue\n",
    "        \n",
    "        poke_soup = BeautifulSoup(pokemon_page.text, 'html.parser')\n",
    "\n",
    "        type_obj = poke_soup.table.find_all('a', {'class': \"type-icon\"})\n",
    "        new_data['types'] = [t.text for t in type_obj]\n",
    "\n",
    "        height = poke_soup.find(text=\"Height\").parent.parent.td.text.split('\\xa0m')[0]\n",
    "        new_data['height_meters'] = height\n",
    "\n",
    "        weight = poke_soup.find(text=\"Weight\").parent.parent.td.text.split('\\xa0kg')[0]\n",
    "        new_data['weight_kg'] = weight\n",
    "\n",
    "        img_link = poke_soup.find('a', {'data-title': True})\n",
    "\n",
    "        new_data['sprites'] = []\n",
    "        if img_link:\n",
    "            new_data['sprites'].append(img_link['href'])\n",
    "\n",
    "        new_data['sprites'].extend(getExtraImages(poke_soup))\n",
    "\n",
    "        pokemon[index] = new_data\n",
    "        \n",
    "    return pokemon\n",
    "\n",
    "\n"
   ]
  },
  {
   "cell_type": "code",
   "execution_count": 40,
   "metadata": {},
   "outputs": [],
   "source": [
    "data = getPokemonData()\n",
    "\n",
    "with open(\"data/pokemon_data.json\", \"w\") as f:\n",
    "    json.dump(data, f)"
   ]
  }
 ],
 "metadata": {
  "interpreter": {
   "hash": "40d3a090f54c6569ab1632332b64b2c03c39dcf918b08424e98f38b5ae0af88f"
  },
  "kernelspec": {
   "display_name": "Python 3.9.7 ('base')",
   "language": "python",
   "name": "python3"
  },
  "language_info": {
   "codemirror_mode": {
    "name": "ipython",
    "version": 3
   },
   "file_extension": ".py",
   "mimetype": "text/x-python",
   "name": "python",
   "nbconvert_exporter": "python",
   "pygments_lexer": "ipython3",
   "version": "3.9.7"
  },
  "orig_nbformat": 4
 },
 "nbformat": 4,
 "nbformat_minor": 2
}
