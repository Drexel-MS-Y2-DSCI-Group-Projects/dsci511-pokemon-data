{
 "cells": [
  {
   "cell_type": "code",
   "execution_count": 31,
   "id": "c650706b",
   "metadata": {},
   "outputs": [],
   "source": [
    "# Required deps\n",
    "# bs4, pandas, requests, re, lxml"
   ]
  },
  {
   "cell_type": "code",
   "execution_count": 40,
   "id": "017a199c",
   "metadata": {},
   "outputs": [],
   "source": [
    "\"\"\"\n",
    "Get the list of all pokemon with anchors by pokedex number\n",
    "\"\"\"\n",
    "\n",
    "from bs4 import BeautifulSoup as bs\n",
    "import requests\n",
    "import re\n",
    "\n",
    "BASE_URL = 'https://bulbapedia.bulbagarden.net'\n",
    "\n",
    "pokemon_list_url = f'{BASE_URL}/wiki/List_of_Pok%C3%A9mon_by_National_Pok%C3%A9dex_number'\n",
    "pokemon_list_data = requests.get(pokemon_list_url).text\n",
    "\n",
    "soup = bs(pokemon_list_data)"
   ]
  },
  {
   "cell_type": "code",
   "execution_count": 41,
   "id": "c23c35ec",
   "metadata": {},
   "outputs": [],
   "source": [
    "\"\"\"\n",
    "filter out the tables\n",
    "dom structure:\n",
    "  h3\n",
    "    span\n",
    "        \"Generation X\"\n",
    "  table\n",
    "\"\"\"\n",
    "\n",
    "def generational_span_filter(header):\n",
    "    span = header.find('span')\n",
    "    if span is not None:\n",
    "        matches = re.match('^Generation [IVML]+$', span.text)\n",
    "        return matches is not None\n",
    "    return False\n",
    "\n",
    "generation_headers = filter(generational_span_filter, soup.find_all('h3'))\n",
    "\n",
    "html_tables = [(header, header.findNext('table')) for header in generation_headers]"
   ]
  },
  {
   "cell_type": "code",
   "execution_count": 46,
   "id": "67ebdcf3",
   "metadata": {},
   "outputs": [],
   "source": [
    "\"\"\"\n",
    "convert to pandas data frames, export csv\n",
    "\"\"\"\n",
    "\n",
    "import pandas as pd\n",
    "\n",
    "for t in html_tables:\n",
    "    header, table = t\n",
    "    table_data = pd.read_html(str(table))[0]\n",
    "    images = [(\n",
    "            row.find('img')['src'],\n",
    "            BASE_URL + row.find('a')['href'])\n",
    "        for row in table.find_all('tr')[1:]]\n",
    "    # pandas is unable to parse a > img > src, retroactively put into DF\n",
    "    # likewise add indivdual page url\n",
    "    table_data['MS'] = [images[i][0] for i in table_data.index]\n",
    "    table_data['url'] = [images[i][1] for i in table_data.index]\n",
    "    table_data.to_csv(f'data/{header.text}.csv')"
   ]
  },
  {
   "cell_type": "code",
   "execution_count": null,
   "id": "3f48cb95-cb61-48f0-b1f0-8f9c5f402b6b",
   "metadata": {},
   "outputs": [],
   "source": []
  }
 ],
 "metadata": {
  "kernelspec": {
   "display_name": "Python 3 (ipykernel)",
   "language": "python",
   "name": "python3"
  },
  "language_info": {
   "codemirror_mode": {
    "name": "ipython",
    "version": 3
   },
   "file_extension": ".py",
   "mimetype": "text/x-python",
   "name": "python",
   "nbconvert_exporter": "python",
   "pygments_lexer": "ipython3",
   "version": "3.9.2"
  }
 },
 "nbformat": 4,
 "nbformat_minor": 5
}
