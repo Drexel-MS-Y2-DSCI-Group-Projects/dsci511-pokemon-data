{
 "cells": [
  {
   "cell_type": "markdown",
   "id": "63920748-b7f9-4125-a143-21c73d61e2c2",
   "metadata": {
    "tags": []
   },
   "source": [
    "# Data from Bulbapedia"
   ]
  },
  {
   "cell_type": "markdown",
   "id": "3a305d80-ad5c-4961-8417-f6605a2e69ed",
   "metadata": {},
   "source": [
    "[Bulbapedia](https://bulbapedia.bulbagarden.net/wiki/Main_Page) is an online Pokemon encyclopedia containing information about the show and games.\n",
    "We will scrape it for pokemon image and icon urls."
   ]
  },
  {
   "cell_type": "markdown",
   "id": "f492c593-861a-4822-9c1c-c261012aee15",
   "metadata": {},
   "source": [
    "### Required dependencies\n",
    "bs4, pandas, requests, re, lxml, json"
   ]
  },
  {
   "cell_type": "markdown",
   "id": "a6563b6b-615d-4974-87b9-d135ec25622c",
   "metadata": {},
   "source": [
    "### Fetch the list of pokemon to get their individual page urls"
   ]
  },
  {
   "cell_type": "code",
   "execution_count": 1,
   "id": "017a199c",
   "metadata": {},
   "outputs": [],
   "source": [
    "from bs4 import BeautifulSoup as bs\n",
    "import requests\n",
    "\n",
    "BASE_URL = 'https://bulbapedia.bulbagarden.net'\n",
    "\n",
    "pokemon_list_url = f'{BASE_URL}/wiki/List_of_Pok%C3%A9mon_by_National_Pok%C3%A9dex_number'\n",
    "pokemon_list_data = requests.get(pokemon_list_url).text\n",
    "\n",
    "soup = bs(pokemon_list_data, features='lxml')"
   ]
  },
  {
   "cell_type": "markdown",
   "id": "73551d4e-1f42-41bf-a183-103559138868",
   "metadata": {},
   "source": [
    "### Filter the page for the \"Generation X\" tables\n",
    "dom structure:\n",
    "```\n",
    "  h3\n",
    "    span\n",
    "        \"Generation X\"\n",
    "  table\n",
    "```"
   ]
  },
  {
   "cell_type": "code",
   "execution_count": 2,
   "id": "c23c35ec",
   "metadata": {},
   "outputs": [],
   "source": [
    "import re\n",
    "\n",
    "def generational_span_filter(header):\n",
    "    span = header.find('span')\n",
    "    if span is not None:\n",
    "        matches = re.match('^Generation [IXVML]+$', span.text)\n",
    "        return matches is not None\n",
    "    return False\n",
    "\n",
    "generation_headers = filter(generational_span_filter, soup.find_all('h3'))\n",
    "\n",
    "html_tables = [(header, header.findNext('table')) for header in generation_headers]"
   ]
  },
  {
   "cell_type": "markdown",
   "id": "ac266719-8f74-4301-a4ae-e4a08c372d49",
   "metadata": {},
   "source": [
    "### Convert to pandas data frame for ease of manipulation"
   ]
  },
  {
   "cell_type": "code",
   "execution_count": 14,
   "id": "67ebdcf3",
   "metadata": {},
   "outputs": [],
   "source": [
    "import pandas as pd\n",
    "\n",
    "df = pd.DataFrame()\n",
    "\n",
    "for t in html_tables:\n",
    "    header, table = t\n",
    "    table_data = pd.read_html(str(table))[0]\n",
    "    images = [(\n",
    "            row.find('img')['src'],\n",
    "            BASE_URL + row.find('a')['href'])\n",
    "        for row in table.find_all('tr')[1:]]\n",
    "    # pandas is unable to parse a > img > src, retroactively put into DF\n",
    "    # likewise add indivdual page url\n",
    "    table_data['MS'] = [f'https:{images[i][0]}' for i in table_data.index]\n",
    "    table_data['url'] = [images[i][1] for i in table_data.index]\n",
    "    table_data['Ndex'] = [ndex[1:] for ndex in table_data['Ndex']] # strip leading hash\n",
    "    df = df.append(table_data)"
   ]
  },
  {
   "cell_type": "markdown",
   "id": "8082bac7-6b8c-474f-a874-8b34bed6a59e",
   "metadata": {},
   "source": [
    "### Convert to JSON per agreed data shape spec"
   ]
  },
  {
   "cell_type": "code",
   "execution_count": 15,
   "id": "59c494de-4a9f-46f0-8bb6-c5cdba2cf5b2",
   "metadata": {},
   "outputs": [],
   "source": [
    "from collections import defaultdict\n",
    "import json\n",
    "\n",
    "d = defaultdict(lambda: { 'sprites': set() })\n",
    "\n",
    "for index, row in df.iterrows():\n",
    "    ndex = row['Ndex']\n",
    "    ms = row['MS']\n",
    "    d[ndex]['sprites'].add(ms)"
   ]
  },
  {
   "cell_type": "markdown",
   "id": "4cc3876c-d09d-44e3-985a-eeaa5aa98641",
   "metadata": {},
   "source": [
    "### Fetch page level contents"
   ]
  },
  {
   "cell_type": "code",
   "execution_count": 16,
   "id": "c6638b96-11c4-4b9f-aae5-01a8ddc0c86c",
   "metadata": {},
   "outputs": [],
   "source": [
    "import time\n",
    "\n",
    "for index, row in df[['Ndex', 'Pokémon']].iterrows():\n",
    "    ndex = row['Ndex']\n",
    "    name = row['Pokémon']\n",
    "    try:\n",
    "        data = requests.get(f'https://archives.bulbagarden.net/wiki/Category:{name}')\n",
    "        soup = bs(data.text, features='lxml')\n",
    "        anchors = soup.find_all('a', { 'class': 'image' })\n",
    "        # print(f'found {len(anchors)} images for {ndex}:{name}')\n",
    "        for a in anchors:\n",
    "            img = a.find('img')\n",
    "            src = img['src']\n",
    "            d[ndex]['sprites'].add(src)\n",
    "        # try not to dos attack bulbapedia\n",
    "        time.sleep(1)\n",
    "    except Exception as e:\n",
    "        print(f'error getting icons for {name}: {e.message}')"
   ]
  },
  {
   "cell_type": "markdown",
   "id": "b4770047-08b3-4419-b7ad-d96fcf57f68c",
   "metadata": {},
   "source": [
    "### Export JSON"
   ]
  },
  {
   "cell_type": "code",
   "execution_count": 17,
   "id": "087bd8aa-2592-4a38-b062-2bd6986b11ca",
   "metadata": {},
   "outputs": [],
   "source": [
    "import os\n",
    "prefix = os.environ.get('poke-prefix', './')\n",
    "with open(f'{prefix}data/output.json', 'w') as f:\n",
    "    json.dump(dict(d), f, default=lambda o: list(o) if isinstance(o, set) else o, indent=4)"
   ]
  }
 ],
 "metadata": {
  "kernelspec": {
   "display_name": "Python 3 (ipykernel)",
   "language": "python",
   "name": "python3"
  },
  "language_info": {
   "codemirror_mode": {
    "name": "ipython",
    "version": 3
   },
   "file_extension": ".py",
   "mimetype": "text/x-python",
   "name": "python",
   "nbconvert_exporter": "python",
   "pygments_lexer": "ipython3",
   "version": "3.9.2"
  }
 },
 "nbformat": 4,
 "nbformat_minor": 5
}
