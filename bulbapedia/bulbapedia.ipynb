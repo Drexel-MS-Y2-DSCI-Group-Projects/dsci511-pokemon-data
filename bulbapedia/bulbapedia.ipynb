{
 "cells": [
  {
   "cell_type": "markdown",
   "id": "63920748-b7f9-4125-a143-21c73d61e2c2",
   "metadata": {
    "tags": []
   },
   "source": [
    "# Data from Bulbapedia"
   ]
  },
  {
   "cell_type": "markdown",
   "id": "3a305d80-ad5c-4961-8417-f6605a2e69ed",
   "metadata": {},
   "source": [
    "[Bulbapedia](https://bulbapedia.bulbagarden.net/wiki/Main_Page) is an online Pokemon encyclopedia containing information about the show and games.\n",
    "We will scrape it for pokemon image and icon urls."
   ]
  },
  {
   "cell_type": "markdown",
   "id": "f492c593-861a-4822-9c1c-c261012aee15",
   "metadata": {},
   "source": [
    "### Required dependencies\n",
    "bs4, pandas, requests, re, lxml, json"
   ]
  },
  {
   "cell_type": "markdown",
   "id": "a6563b6b-615d-4974-87b9-d135ec25622c",
   "metadata": {},
   "source": [
    "### Fetch the list of pokemon to get their individual page urls"
   ]
  },
  {
   "cell_type": "code",
   "execution_count": 33,
   "id": "017a199c",
   "metadata": {},
   "outputs": [],
   "source": [
    "from bs4 import BeautifulSoup as bs\n",
    "import requests\n",
    "\n",
    "BASE_URL = 'https://bulbapedia.bulbagarden.net'\n",
    "\n",
    "pokemon_list_url = f'{BASE_URL}/wiki/List_of_Pok%C3%A9mon_by_National_Pok%C3%A9dex_number'\n",
    "pokemon_list_data = requests.get(pokemon_list_url).text\n",
    "\n",
    "soup = bs(pokemon_list_data)"
   ]
  },
  {
   "cell_type": "markdown",
   "id": "73551d4e-1f42-41bf-a183-103559138868",
   "metadata": {},
   "source": [
    "### Filter the page for the \"Generation X\" tables\n",
    "dom structure:\n",
    "```\n",
    "  h3\n",
    "    span\n",
    "        \"Generation X\"\n",
    "  table\n",
    "```"
   ]
  },
  {
   "cell_type": "code",
   "execution_count": 44,
   "id": "c23c35ec",
   "metadata": {},
   "outputs": [],
   "source": [
    "import re\n",
    "\n",
    "def generational_span_filter(header):\n",
    "    span = header.find('span')\n",
    "    if span is not None:\n",
    "        matches = re.match('^Generation [IXVML]+$', span.text)\n",
    "        return matches is not None\n",
    "    return False\n",
    "\n",
    "generation_headers = filter(generational_span_filter, soup.find_all('h3'))\n",
    "\n",
    "html_tables = [(header, header.findNext('table')) for header in generation_headers]"
   ]
  },
  {
   "cell_type": "markdown",
   "id": "ac266719-8f74-4301-a4ae-e4a08c372d49",
   "metadata": {},
   "source": [
    "### Convert to pandas data frame for ease of manipulation"
   ]
  },
  {
   "cell_type": "code",
   "execution_count": 45,
   "id": "67ebdcf3",
   "metadata": {},
   "outputs": [],
   "source": [
    "import pandas as pd\n",
    "\n",
    "df = pd.DataFrame()\n",
    "\n",
    "for t in html_tables:\n",
    "    header, table = t\n",
    "    table_data = pd.read_html(str(table))[0]\n",
    "    images = [(\n",
    "            row.find('img')['src'],\n",
    "            BASE_URL + row.find('a')['href'])\n",
    "        for row in table.find_all('tr')[1:]]\n",
    "    # pandas is unable to parse a > img > src, retroactively put into DF\n",
    "    # likewise add indivdual page url\n",
    "    table_data['MS'] = [f'https:{images[i][0]}' for i in table_data.index]\n",
    "    table_data['url'] = [images[i][1] for i in table_data.index]\n",
    "    df = df.append(table_data)"
   ]
  },
  {
   "cell_type": "markdown",
   "id": "8082bac7-6b8c-474f-a874-8b34bed6a59e",
   "metadata": {},
   "source": [
    "### Convert to JSON per agreed data shape spec"
   ]
  },
  {
   "cell_type": "code",
   "execution_count": 47,
   "id": "59c494de-4a9f-46f0-8bb6-c5cdba2cf5b2",
   "metadata": {},
   "outputs": [],
   "source": [
    "from collections import defaultdict\n",
    "import json\n",
    "\n",
    "d = defaultdict(lambda: { 'sprites': set() })\n",
    "\n",
    "for index, row in df.iterrows():\n",
    "    ndex = row['Ndex']\n",
    "    url = row['url']\n",
    "    ms = row['MS']\n",
    "    d[ndex]['sprites'].add(url)\n",
    "    d[ndex]['sprites'].add(ms)\n",
    "\n",
    "with open('./data/output.json', 'w') as f:\n",
    "    json.dump(dict(d), f, default=lambda o: list(o) if isinstance(o, set) else o, indent=4)"
   ]
  }
 ],
 "metadata": {
  "kernelspec": {
   "display_name": "Python 3 (ipykernel)",
   "language": "python",
   "name": "python3"
  },
  "language_info": {
   "codemirror_mode": {
    "name": "ipython",
    "version": 3
   },
   "file_extension": ".py",
   "mimetype": "text/x-python",
   "name": "python",
   "nbconvert_exporter": "python",
   "pygments_lexer": "ipython3",
   "version": "3.9.2"
  }
 },
 "nbformat": 4,
 "nbformat_minor": 5
}
