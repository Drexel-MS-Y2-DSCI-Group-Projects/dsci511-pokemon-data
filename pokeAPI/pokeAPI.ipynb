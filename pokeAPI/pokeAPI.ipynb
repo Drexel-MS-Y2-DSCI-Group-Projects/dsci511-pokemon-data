{
 "cells": [
  {
   "cell_type": "markdown",
   "metadata": {},
   "source": [
    "## Data from PokeAPI"
   ]
  },
  {
   "cell_type": "markdown",
   "metadata": {},
   "source": [
    "### Start by setting some reusable variables"
   ]
  },
  {
   "cell_type": "code",
   "execution_count": 20,
   "metadata": {},
   "outputs": [
    {
     "name": "stdout",
     "output_type": "stream",
     "text": [
      "There are currently 898 Pokemon species\n"
     ]
    }
   ],
   "source": [
    "import requests, json, os\n",
    "import colorAnalyzer as ca\n",
    "import imp\n",
    "\n",
    "imp.reload(ca)\n",
    "\n",
    "baseUrl = \"https://pokeapi.co/api/v2\"\n",
    "\n",
    "total = (requests.get(f\"{baseUrl}/pokemon-species?limit=1\").json())[\"count\"]\n",
    "\n",
    "print(f\"There are currently {total} Pokemon species\")\n",
    "\n",
    "limit = 10"
   ]
  },
  {
   "cell_type": "markdown",
   "metadata": {},
   "source": [
    "### Pull out and store all the Pokemon data we need\n",
    "\n",
    "This way, we can use the data later without calling the API again (avoid rate limiting)"
   ]
  },
  {
   "cell_type": "code",
   "execution_count": 16,
   "metadata": {},
   "outputs": [],
   "source": [
    "# recursive function to pull out all values from a nested dictionary\n",
    "def get_all_values(nested_dictionary):\n",
    "    value_list = []\n",
    "    for key, value in nested_dictionary.items():\n",
    "        if type(value) is dict:\n",
    "            value_list.extend(get_all_values(value))\n",
    "        elif type(value) is str:\n",
    "            value_list.append(value)\n",
    "    return value_list"
   ]
  },
  {
   "cell_type": "code",
   "execution_count": 18,
   "metadata": {},
   "outputs": [],
   "source": [
    "# Function to pull all out and store all necessary pokemon data\n",
    "def get_pokemon_data(baseUrl, limit):\n",
    "    pokemon_species = requests.get(f\"{baseUrl}/pokemon-species?limit={limit}\").json()\n",
    "\n",
    "    pokemon_data = {}\n",
    "\n",
    "    for poke in pokemon_species[\"results\"]:\n",
    "        species_response = requests.get(poke[\"url\"]).json()\n",
    "        dex_num = species_response[\"order\"]\n",
    "        print(dex_num)\n",
    "        \n",
    "        pokemon_response = requests.get(f\"{baseUrl}/pokemon/{dex_num}\").json()\n",
    "\n",
    "        ### grabbing all sprite images from the API response ###\n",
    "        sprites = get_all_values(pokemon_response[\"sprites\"]) # need to recurse through the sprite objects to pull out all the image urls\n",
    "\n",
    "        ### pulling out the major hex codes from all sprite images ###\n",
    "        color_codes = set()\n",
    "        for sprite_url in sprites:\n",
    "            hex_codes = ca.get_hex_codes_for_img(sprite_url)\n",
    "            for hex in hex_codes:\n",
    "                color_codes.add(hex)\n",
    "\n",
    "        ### grabbing the typings from the API response\n",
    "        typing = []\n",
    "        for poke_type in pokemon_response[\"types\"]:\n",
    "            typing.append(poke_type[\"type\"][\"name\"])\n",
    "\n",
    "        ## set up Pokemon object\n",
    "        pokemon = {\n",
    "            \"name\": species_response[\"name\"],\n",
    "            \"color\": species_response[\"color\"][\"name\"],\n",
    "            \"shape\": species_response[\"shape\"][\"name\"],\n",
    "            \"sprites\": sprites,\n",
    "            \"types\": typing,\n",
    "            \"img_colors\": list(color_codes)\n",
    "        }\n",
    "\n",
    "        if (dex_num < 10):\n",
    "            dex_num = '00' + str(dex_num)\n",
    "        elif (dex_num < 100):\n",
    "            dex_num = '0' + str(dex_num)\n",
    "        else: dex_num = str(dex_num)\n",
    "\n",
    "        pokemon_data[dex_num] = pokemon\n",
    "\n",
    "    return pokemon_data"
   ]
  },
  {
   "cell_type": "code",
   "execution_count": 21,
   "metadata": {},
   "outputs": [
    {
     "name": "stdout",
     "output_type": "stream",
     "text": [
      "1\n"
     ]
    },
    {
     "ename": "KeyboardInterrupt",
     "evalue": "",
     "output_type": "error",
     "traceback": [
      "\u001b[1;31m---------------------------------------------------------------------------\u001b[0m",
      "\u001b[1;31mKeyboardInterrupt\u001b[0m                         Traceback (most recent call last)",
      "\u001b[1;32mc:\\Users\\dingo\\Documents\\GitHub\\Class Projects\\dsci511\\dsci511-pokemon-data\\pokeAPI\\pokeAPI.ipynb Cell 7'\u001b[0m in \u001b[0;36m<module>\u001b[1;34m\u001b[0m\n\u001b[0;32m      <a href='vscode-notebook-cell:/c%3A/Users/dingo/Documents/GitHub/Class%20Projects/dsci511/dsci511-pokemon-data/pokeAPI/pokeAPI.ipynb#ch0000007?line=4'>5</a>\u001b[0m     detailed_pokemon_data \u001b[39m=\u001b[39m json\u001b[39m.\u001b[39mload(\u001b[39mopen\u001b[39m(\u001b[39m\"\u001b[39m\u001b[39m./data/detailed_pokemon_species.json\u001b[39m\u001b[39m\"\u001b[39m))\n\u001b[0;32m      <a href='vscode-notebook-cell:/c%3A/Users/dingo/Documents/GitHub/Class%20Projects/dsci511/dsci511-pokemon-data/pokeAPI/pokeAPI.ipynb#ch0000007?line=5'>6</a>\u001b[0m \u001b[39melse\u001b[39;00m:\n\u001b[1;32m----> <a href='vscode-notebook-cell:/c%3A/Users/dingo/Documents/GitHub/Class%20Projects/dsci511/dsci511-pokemon-data/pokeAPI/pokeAPI.ipynb#ch0000007?line=6'>7</a>\u001b[0m     detailed_pokemon_data \u001b[39m=\u001b[39m get_pokemon_data(baseUrl, limit)\n\u001b[0;32m      <a href='vscode-notebook-cell:/c%3A/Users/dingo/Documents/GitHub/Class%20Projects/dsci511/dsci511-pokemon-data/pokeAPI/pokeAPI.ipynb#ch0000007?line=7'>8</a>\u001b[0m     \u001b[39m# save the data to disk\u001b[39;00m\n\u001b[0;32m      <a href='vscode-notebook-cell:/c%3A/Users/dingo/Documents/GitHub/Class%20Projects/dsci511/dsci511-pokemon-data/pokeAPI/pokeAPI.ipynb#ch0000007?line=8'>9</a>\u001b[0m     \u001b[39mwith\u001b[39;00m \u001b[39mopen\u001b[39m(\u001b[39m\"\u001b[39m\u001b[39m./data/detailed_pokemon_species.json\u001b[39m\u001b[39m\"\u001b[39m, \u001b[39m\"\u001b[39m\u001b[39mw\u001b[39m\u001b[39m\"\u001b[39m) \u001b[39mas\u001b[39;00m f:\n",
      "\u001b[1;32mc:\\Users\\dingo\\Documents\\GitHub\\Class Projects\\dsci511\\dsci511-pokemon-data\\pokeAPI\\pokeAPI.ipynb Cell 6'\u001b[0m in \u001b[0;36mget_pokemon_data\u001b[1;34m(baseUrl, limit)\u001b[0m\n\u001b[0;32m     <a href='vscode-notebook-cell:/c%3A/Users/dingo/Documents/GitHub/Class%20Projects/dsci511/dsci511-pokemon-data/pokeAPI/pokeAPI.ipynb#ch0000004?line=17'>18</a>\u001b[0m color_codes \u001b[39m=\u001b[39m \u001b[39mset\u001b[39m()\n\u001b[0;32m     <a href='vscode-notebook-cell:/c%3A/Users/dingo/Documents/GitHub/Class%20Projects/dsci511/dsci511-pokemon-data/pokeAPI/pokeAPI.ipynb#ch0000004?line=18'>19</a>\u001b[0m \u001b[39mfor\u001b[39;00m sprite_url \u001b[39min\u001b[39;00m sprites:\n\u001b[1;32m---> <a href='vscode-notebook-cell:/c%3A/Users/dingo/Documents/GitHub/Class%20Projects/dsci511/dsci511-pokemon-data/pokeAPI/pokeAPI.ipynb#ch0000004?line=19'>20</a>\u001b[0m     hex_codes \u001b[39m=\u001b[39m ca\u001b[39m.\u001b[39;49mget_hex_codes_for_img(sprite_url)\n\u001b[0;32m     <a href='vscode-notebook-cell:/c%3A/Users/dingo/Documents/GitHub/Class%20Projects/dsci511/dsci511-pokemon-data/pokeAPI/pokeAPI.ipynb#ch0000004?line=20'>21</a>\u001b[0m     \u001b[39mfor\u001b[39;00m \u001b[39mhex\u001b[39m \u001b[39min\u001b[39;00m hex_codes:\n\u001b[0;32m     <a href='vscode-notebook-cell:/c%3A/Users/dingo/Documents/GitHub/Class%20Projects/dsci511/dsci511-pokemon-data/pokeAPI/pokeAPI.ipynb#ch0000004?line=21'>22</a>\u001b[0m         color_codes\u001b[39m.\u001b[39madd(\u001b[39mhex\u001b[39m)\n",
      "File \u001b[1;32mc:\\Users\\dingo\\Documents\\GitHub\\Class Projects\\dsci511\\dsci511-pokemon-data\\pokeAPI\\colorAnalyzer.py:50\u001b[0m, in \u001b[0;36mget_hex_codes_for_img\u001b[1;34m(url)\u001b[0m\n\u001b[0;32m     <a href='file:///c%3A/Users/dingo/Documents/GitHub/Class%20Projects/dsci511/dsci511-pokemon-data/pokeAPI/colorAnalyzer.py?line=46'>47</a>\u001b[0m image \u001b[39m=\u001b[39m cv2\u001b[39m.\u001b[39mcvtColor(image, cv2\u001b[39m.\u001b[39mCOLOR_BGR2RGB) \u001b[39m# converts to RBG colors\u001b[39;00m\n\u001b[0;32m     <a href='file:///c%3A/Users/dingo/Documents/GitHub/Class%20Projects/dsci511/dsci511-pokemon-data/pokeAPI/colorAnalyzer.py?line=48'>49</a>\u001b[0m modified_image \u001b[39m=\u001b[39m prep_image(image) \u001b[39m# preps the image, resizing and reshaping\u001b[39;00m\n\u001b[1;32m---> <a href='file:///c%3A/Users/dingo/Documents/GitHub/Class%20Projects/dsci511/dsci511-pokemon-data/pokeAPI/colorAnalyzer.py?line=49'>50</a>\u001b[0m hex_colors \u001b[39m=\u001b[39m color_analysis(modified_image) \u001b[39m# does the final colors analysis to get top 5 hex codes\u001b[39;00m\n\u001b[0;32m     <a href='file:///c%3A/Users/dingo/Documents/GitHub/Class%20Projects/dsci511/dsci511-pokemon-data/pokeAPI/colorAnalyzer.py?line=51'>52</a>\u001b[0m os\u001b[39m.\u001b[39mremove(image_title) \u001b[39m# delete the image from disk\u001b[39;00m\n\u001b[0;32m     <a href='file:///c%3A/Users/dingo/Documents/GitHub/Class%20Projects/dsci511/dsci511-pokemon-data/pokeAPI/colorAnalyzer.py?line=53'>54</a>\u001b[0m \u001b[39mreturn\u001b[39;00m hex_colors \u001b[39m# return the list of hex colors\u001b[39;00m\n",
      "File \u001b[1;32mc:\\Users\\dingo\\Documents\\GitHub\\Class Projects\\dsci511\\dsci511-pokemon-data\\pokeAPI\\colorAnalyzer.py:30\u001b[0m, in \u001b[0;36mcolor_analysis\u001b[1;34m(img)\u001b[0m\n\u001b[0;32m     <a href='file:///c%3A/Users/dingo/Documents/GitHub/Class%20Projects/dsci511/dsci511-pokemon-data/pokeAPI/colorAnalyzer.py?line=27'>28</a>\u001b[0m \u001b[39mdef\u001b[39;00m \u001b[39mcolor_analysis\u001b[39m(img):\n\u001b[0;32m     <a href='file:///c%3A/Users/dingo/Documents/GitHub/Class%20Projects/dsci511/dsci511-pokemon-data/pokeAPI/colorAnalyzer.py?line=28'>29</a>\u001b[0m     clf \u001b[39m=\u001b[39m KMeans(n_clusters \u001b[39m=\u001b[39m \u001b[39m5\u001b[39m)\n\u001b[1;32m---> <a href='file:///c%3A/Users/dingo/Documents/GitHub/Class%20Projects/dsci511/dsci511-pokemon-data/pokeAPI/colorAnalyzer.py?line=29'>30</a>\u001b[0m     color_labels \u001b[39m=\u001b[39m clf\u001b[39m.\u001b[39;49mfit_predict(img)\n\u001b[0;32m     <a href='file:///c%3A/Users/dingo/Documents/GitHub/Class%20Projects/dsci511/dsci511-pokemon-data/pokeAPI/colorAnalyzer.py?line=30'>31</a>\u001b[0m     center_colors \u001b[39m=\u001b[39m clf\u001b[39m.\u001b[39mcluster_centers_\n\u001b[0;32m     <a href='file:///c%3A/Users/dingo/Documents/GitHub/Class%20Projects/dsci511/dsci511-pokemon-data/pokeAPI/colorAnalyzer.py?line=31'>32</a>\u001b[0m     counts \u001b[39m=\u001b[39m Counter(color_labels)\n",
      "File \u001b[1;32mC:\\Python39\\lib\\site-packages\\sklearn\\cluster\\_kmeans.py:1255\u001b[0m, in \u001b[0;36mKMeans.fit_predict\u001b[1;34m(self, X, y, sample_weight)\u001b[0m\n\u001b[0;32m   <a href='file:///c%3A/Python39/lib/site-packages/sklearn/cluster/_kmeans.py?line=1231'>1232</a>\u001b[0m \u001b[39mdef\u001b[39;00m \u001b[39mfit_predict\u001b[39m(\u001b[39mself\u001b[39m, X, y\u001b[39m=\u001b[39m\u001b[39mNone\u001b[39;00m, sample_weight\u001b[39m=\u001b[39m\u001b[39mNone\u001b[39;00m):\n\u001b[0;32m   <a href='file:///c%3A/Python39/lib/site-packages/sklearn/cluster/_kmeans.py?line=1232'>1233</a>\u001b[0m     \u001b[39m\"\"\"Compute cluster centers and predict cluster index for each sample.\u001b[39;00m\n\u001b[0;32m   <a href='file:///c%3A/Python39/lib/site-packages/sklearn/cluster/_kmeans.py?line=1233'>1234</a>\u001b[0m \n\u001b[0;32m   <a href='file:///c%3A/Python39/lib/site-packages/sklearn/cluster/_kmeans.py?line=1234'>1235</a>\u001b[0m \u001b[39m    Convenience method; equivalent to calling fit(X) followed by\u001b[39;00m\n\u001b[1;32m   (...)\u001b[0m\n\u001b[0;32m   <a href='file:///c%3A/Python39/lib/site-packages/sklearn/cluster/_kmeans.py?line=1252'>1253</a>\u001b[0m \u001b[39m        Index of the cluster each sample belongs to.\u001b[39;00m\n\u001b[0;32m   <a href='file:///c%3A/Python39/lib/site-packages/sklearn/cluster/_kmeans.py?line=1253'>1254</a>\u001b[0m \u001b[39m    \"\"\"\u001b[39;00m\n\u001b[1;32m-> <a href='file:///c%3A/Python39/lib/site-packages/sklearn/cluster/_kmeans.py?line=1254'>1255</a>\u001b[0m     \u001b[39mreturn\u001b[39;00m \u001b[39mself\u001b[39;49m\u001b[39m.\u001b[39;49mfit(X, sample_weight\u001b[39m=\u001b[39;49msample_weight)\u001b[39m.\u001b[39mlabels_\n",
      "File \u001b[1;32mC:\\Python39\\lib\\site-packages\\sklearn\\cluster\\_kmeans.py:1186\u001b[0m, in \u001b[0;36mKMeans.fit\u001b[1;34m(self, X, y, sample_weight)\u001b[0m\n\u001b[0;32m   <a href='file:///c%3A/Python39/lib/site-packages/sklearn/cluster/_kmeans.py?line=1182'>1183</a>\u001b[0m     \u001b[39mprint\u001b[39m(\u001b[39m\"\u001b[39m\u001b[39mInitialization complete\u001b[39m\u001b[39m\"\u001b[39m)\n\u001b[0;32m   <a href='file:///c%3A/Python39/lib/site-packages/sklearn/cluster/_kmeans.py?line=1184'>1185</a>\u001b[0m \u001b[39m# run a k-means once\u001b[39;00m\n\u001b[1;32m-> <a href='file:///c%3A/Python39/lib/site-packages/sklearn/cluster/_kmeans.py?line=1185'>1186</a>\u001b[0m labels, inertia, centers, n_iter_ \u001b[39m=\u001b[39m kmeans_single(\n\u001b[0;32m   <a href='file:///c%3A/Python39/lib/site-packages/sklearn/cluster/_kmeans.py?line=1186'>1187</a>\u001b[0m     X,\n\u001b[0;32m   <a href='file:///c%3A/Python39/lib/site-packages/sklearn/cluster/_kmeans.py?line=1187'>1188</a>\u001b[0m     sample_weight,\n\u001b[0;32m   <a href='file:///c%3A/Python39/lib/site-packages/sklearn/cluster/_kmeans.py?line=1188'>1189</a>\u001b[0m     centers_init,\n\u001b[0;32m   <a href='file:///c%3A/Python39/lib/site-packages/sklearn/cluster/_kmeans.py?line=1189'>1190</a>\u001b[0m     max_iter\u001b[39m=\u001b[39;49m\u001b[39mself\u001b[39;49m\u001b[39m.\u001b[39;49mmax_iter,\n\u001b[0;32m   <a href='file:///c%3A/Python39/lib/site-packages/sklearn/cluster/_kmeans.py?line=1190'>1191</a>\u001b[0m     verbose\u001b[39m=\u001b[39;49m\u001b[39mself\u001b[39;49m\u001b[39m.\u001b[39;49mverbose,\n\u001b[0;32m   <a href='file:///c%3A/Python39/lib/site-packages/sklearn/cluster/_kmeans.py?line=1191'>1192</a>\u001b[0m     tol\u001b[39m=\u001b[39;49m\u001b[39mself\u001b[39;49m\u001b[39m.\u001b[39;49m_tol,\n\u001b[0;32m   <a href='file:///c%3A/Python39/lib/site-packages/sklearn/cluster/_kmeans.py?line=1192'>1193</a>\u001b[0m     x_squared_norms\u001b[39m=\u001b[39;49mx_squared_norms,\n\u001b[0;32m   <a href='file:///c%3A/Python39/lib/site-packages/sklearn/cluster/_kmeans.py?line=1193'>1194</a>\u001b[0m     n_threads\u001b[39m=\u001b[39;49m\u001b[39mself\u001b[39;49m\u001b[39m.\u001b[39;49m_n_threads,\n\u001b[0;32m   <a href='file:///c%3A/Python39/lib/site-packages/sklearn/cluster/_kmeans.py?line=1194'>1195</a>\u001b[0m )\n\u001b[0;32m   <a href='file:///c%3A/Python39/lib/site-packages/sklearn/cluster/_kmeans.py?line=1196'>1197</a>\u001b[0m \u001b[39m# determine if these results are the best so far\u001b[39;00m\n\u001b[0;32m   <a href='file:///c%3A/Python39/lib/site-packages/sklearn/cluster/_kmeans.py?line=1197'>1198</a>\u001b[0m \u001b[39m# we chose a new run if it has a better inertia and the clustering is\u001b[39;00m\n\u001b[0;32m   <a href='file:///c%3A/Python39/lib/site-packages/sklearn/cluster/_kmeans.py?line=1198'>1199</a>\u001b[0m \u001b[39m# different from the best so far (it's possible that the inertia is\u001b[39;00m\n\u001b[0;32m   <a href='file:///c%3A/Python39/lib/site-packages/sklearn/cluster/_kmeans.py?line=1199'>1200</a>\u001b[0m \u001b[39m# slightly better even if the clustering is the same with potentially\u001b[39;00m\n\u001b[0;32m   <a href='file:///c%3A/Python39/lib/site-packages/sklearn/cluster/_kmeans.py?line=1200'>1201</a>\u001b[0m \u001b[39m# permuted labels, due to rounding errors)\u001b[39;00m\n\u001b[0;32m   <a href='file:///c%3A/Python39/lib/site-packages/sklearn/cluster/_kmeans.py?line=1201'>1202</a>\u001b[0m \u001b[39mif\u001b[39;00m best_inertia \u001b[39mis\u001b[39;00m \u001b[39mNone\u001b[39;00m \u001b[39mor\u001b[39;00m (\n\u001b[0;32m   <a href='file:///c%3A/Python39/lib/site-packages/sklearn/cluster/_kmeans.py?line=1202'>1203</a>\u001b[0m     inertia \u001b[39m<\u001b[39m best_inertia\n\u001b[0;32m   <a href='file:///c%3A/Python39/lib/site-packages/sklearn/cluster/_kmeans.py?line=1203'>1204</a>\u001b[0m     \u001b[39mand\u001b[39;00m \u001b[39mnot\u001b[39;00m _is_same_clustering(labels, best_labels, \u001b[39mself\u001b[39m\u001b[39m.\u001b[39mn_clusters)\n\u001b[0;32m   <a href='file:///c%3A/Python39/lib/site-packages/sklearn/cluster/_kmeans.py?line=1204'>1205</a>\u001b[0m ):\n",
      "File \u001b[1;32mC:\\Python39\\lib\\site-packages\\sklearn\\cluster\\_kmeans.py:523\u001b[0m, in \u001b[0;36m_kmeans_single_elkan\u001b[1;34m(X, sample_weight, centers_init, max_iter, verbose, x_squared_norms, tol, n_threads)\u001b[0m\n\u001b[0;32m    <a href='file:///c%3A/Python39/lib/site-packages/sklearn/cluster/_kmeans.py?line=518'>519</a>\u001b[0m     labels_old[:] \u001b[39m=\u001b[39m labels\n\u001b[0;32m    <a href='file:///c%3A/Python39/lib/site-packages/sklearn/cluster/_kmeans.py?line=520'>521</a>\u001b[0m \u001b[39mif\u001b[39;00m \u001b[39mnot\u001b[39;00m strict_convergence:\n\u001b[0;32m    <a href='file:///c%3A/Python39/lib/site-packages/sklearn/cluster/_kmeans.py?line=521'>522</a>\u001b[0m     \u001b[39m# rerun E-step so that predicted labels match cluster centers\u001b[39;00m\n\u001b[1;32m--> <a href='file:///c%3A/Python39/lib/site-packages/sklearn/cluster/_kmeans.py?line=522'>523</a>\u001b[0m     elkan_iter(\n\u001b[0;32m    <a href='file:///c%3A/Python39/lib/site-packages/sklearn/cluster/_kmeans.py?line=523'>524</a>\u001b[0m         X,\n\u001b[0;32m    <a href='file:///c%3A/Python39/lib/site-packages/sklearn/cluster/_kmeans.py?line=524'>525</a>\u001b[0m         sample_weight,\n\u001b[0;32m    <a href='file:///c%3A/Python39/lib/site-packages/sklearn/cluster/_kmeans.py?line=525'>526</a>\u001b[0m         centers,\n\u001b[0;32m    <a href='file:///c%3A/Python39/lib/site-packages/sklearn/cluster/_kmeans.py?line=526'>527</a>\u001b[0m         centers,\n\u001b[0;32m    <a href='file:///c%3A/Python39/lib/site-packages/sklearn/cluster/_kmeans.py?line=527'>528</a>\u001b[0m         weight_in_clusters,\n\u001b[0;32m    <a href='file:///c%3A/Python39/lib/site-packages/sklearn/cluster/_kmeans.py?line=528'>529</a>\u001b[0m         center_half_distances,\n\u001b[0;32m    <a href='file:///c%3A/Python39/lib/site-packages/sklearn/cluster/_kmeans.py?line=529'>530</a>\u001b[0m         distance_next_center,\n\u001b[0;32m    <a href='file:///c%3A/Python39/lib/site-packages/sklearn/cluster/_kmeans.py?line=530'>531</a>\u001b[0m         upper_bounds,\n\u001b[0;32m    <a href='file:///c%3A/Python39/lib/site-packages/sklearn/cluster/_kmeans.py?line=531'>532</a>\u001b[0m         lower_bounds,\n\u001b[0;32m    <a href='file:///c%3A/Python39/lib/site-packages/sklearn/cluster/_kmeans.py?line=532'>533</a>\u001b[0m         labels,\n\u001b[0;32m    <a href='file:///c%3A/Python39/lib/site-packages/sklearn/cluster/_kmeans.py?line=533'>534</a>\u001b[0m         center_shift,\n\u001b[0;32m    <a href='file:///c%3A/Python39/lib/site-packages/sklearn/cluster/_kmeans.py?line=534'>535</a>\u001b[0m         n_threads,\n\u001b[0;32m    <a href='file:///c%3A/Python39/lib/site-packages/sklearn/cluster/_kmeans.py?line=535'>536</a>\u001b[0m         update_centers\u001b[39m=\u001b[39;49m\u001b[39mFalse\u001b[39;49;00m,\n\u001b[0;32m    <a href='file:///c%3A/Python39/lib/site-packages/sklearn/cluster/_kmeans.py?line=536'>537</a>\u001b[0m     )\n\u001b[0;32m    <a href='file:///c%3A/Python39/lib/site-packages/sklearn/cluster/_kmeans.py?line=538'>539</a>\u001b[0m inertia \u001b[39m=\u001b[39m _inertia(X, sample_weight, centers, labels, n_threads)\n\u001b[0;32m    <a href='file:///c%3A/Python39/lib/site-packages/sklearn/cluster/_kmeans.py?line=540'>541</a>\u001b[0m \u001b[39mreturn\u001b[39;00m labels, inertia, centers, i \u001b[39m+\u001b[39m \u001b[39m1\u001b[39m\n",
      "\u001b[1;31mKeyboardInterrupt\u001b[0m: "
     ]
    }
   ],
   "source": [
    "# Gather the data and place it into a JSON for use later\n",
    "get_new_data = True\n",
    "\n",
    "if os.path.exists(\"./data/detailed_pokemon_species.json\") and get_new_data == False:\n",
    "    detailed_pokemon_data = json.load(open(\"./data/detailed_pokemon_species.json\"))\n",
    "else:\n",
    "    detailed_pokemon_data = get_pokemon_data(baseUrl, limit)\n",
    "    # save the data to disk\n",
    "    with open(\"./data/detailed_pokemon_species.json\", \"w\") as f:\n",
    "        f.write(json.dumps(detailed_pokemon_data))"
   ]
  }
 ],
 "metadata": {
  "interpreter": {
   "hash": "c6ec318a6cd4aee9d1fd439759fcaa63b744a90ad174a7f8466a8728f361e811"
  },
  "kernelspec": {
   "display_name": "Python 3.9.7 ('base')",
   "language": "python",
   "name": "python3"
  },
  "language_info": {
   "codemirror_mode": {
    "name": "ipython",
    "version": 3
   },
   "file_extension": ".py",
   "mimetype": "text/x-python",
   "name": "python",
   "nbconvert_exporter": "python",
   "pygments_lexer": "ipython3",
   "version": "3.9.0"
  },
  "orig_nbformat": 4
 },
 "nbformat": 4,
 "nbformat_minor": 2
}
